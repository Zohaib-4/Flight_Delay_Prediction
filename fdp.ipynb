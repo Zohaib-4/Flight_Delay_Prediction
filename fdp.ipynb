{
 "cells": [
  {
   "cell_type": "code",
   "execution_count": 1,
   "metadata": {},
   "outputs": [],
   "source": [
    "import pandas as pd\n",
    "import numpy as np\n",
    "import matplotlib.pyplot as plt\n",
    "from sklearn.preprocessing import LabelEncoder\n",
    "from sklearn.model_selection import train_test_split\n",
    "from sklearn.tree import DecisionTreeClassifier\n",
    "from sklearn.metrics import accuracy_score, classification_report, confusion_matrix\n",
    "from sklearn.preprocessing import StandardScaler\n",
    "from sklearn.linear_model import LogisticRegression\n",
    "from sklearn.svm import SVC\n",
    "import xgboost as xgb"
   ]
  },
  {
   "cell_type": "code",
   "execution_count": 2,
   "metadata": {},
   "outputs": [],
   "source": [
    "\n",
    "files = [\"2018.csv\", \"2019.csv\", \"2020.csv\"]\n",
    "\n"
   ]
  },
  {
   "cell_type": "code",
   "execution_count": 3,
   "metadata": {},
   "outputs": [
    {
     "name": "stdout",
     "output_type": "stream",
     "text": [
      "     FL_DATE OP_CARRIER  OP_CARRIER_FL_NUM ORIGIN DEST  CRS_DEP_TIME  \\\n",
      "0 2018-01-01         UA               2429    EWR  DEN        1517.0   \n",
      "1 2018-01-01         UA               2427    LAS  SFO        1115.0   \n",
      "2 2018-01-01         UA               2426    SNA  DEN        1335.0   \n",
      "3 2018-01-01         UA               2425    RSW  ORD        1546.0   \n",
      "4 2018-01-01         UA               2424    ORD  ALB         630.0   \n",
      "\n",
      "   DEP_TIME  DEP_DELAY  TAXI_OUT  WHEELS_OFF  ...  ACTUAL_ELAPSED_TIME  \\\n",
      "0    1512.0       -5.0      15.0      1527.0  ...                250.0   \n",
      "1    1107.0       -8.0      11.0      1118.0  ...                 83.0   \n",
      "2    1330.0       -5.0      15.0      1345.0  ...                126.0   \n",
      "3    1552.0        6.0      19.0      1611.0  ...                182.0   \n",
      "4     650.0       20.0      13.0       703.0  ...                106.0   \n",
      "\n",
      "   AIR_TIME  DISTANCE  CARRIER_DELAY  WEATHER_DELAY  NAS_DELAY SECURITY_DELAY  \\\n",
      "0     225.0    1605.0            0.0            0.0        0.0            0.0   \n",
      "1      65.0     414.0            0.0            0.0        0.0            0.0   \n",
      "2     106.0     846.0            0.0            0.0        0.0            0.0   \n",
      "3     157.0    1120.0            0.0            0.0        0.0            0.0   \n",
      "4      83.0     723.0            0.0            0.0        0.0            0.0   \n",
      "\n",
      "   LATE_AIRCRAFT_DELAY  OP_UNIQUE_CARRIER  Unnamed: 20  \n",
      "0                  0.0                NaN          NaN  \n",
      "1                  0.0                NaN          NaN  \n",
      "2                  0.0                NaN          NaN  \n",
      "3                  0.0                NaN          NaN  \n",
      "4                  0.0                NaN          NaN  \n",
      "\n",
      "[5 rows x 29 columns]\n",
      "<class 'pandas.core.frame.DataFrame'>\n",
      "RangeIndex: 17183057 entries, 0 to 17183056\n",
      "Data columns (total 29 columns):\n",
      " #   Column               Dtype         \n",
      "---  ------               -----         \n",
      " 0   FL_DATE              datetime64[ns]\n",
      " 1   OP_CARRIER           object        \n",
      " 2   OP_CARRIER_FL_NUM    int64         \n",
      " 3   ORIGIN               object        \n",
      " 4   DEST                 object        \n",
      " 5   CRS_DEP_TIME         float64       \n",
      " 6   DEP_TIME             float64       \n",
      " 7   DEP_DELAY            float64       \n",
      " 8   TAXI_OUT             float64       \n",
      " 9   WHEELS_OFF           float64       \n",
      " 10  WHEELS_ON            float64       \n",
      " 11  TAXI_IN              float64       \n",
      " 12  CRS_ARR_TIME         float64       \n",
      " 13  ARR_TIME             float64       \n",
      " 14  ARR_DELAY            float64       \n",
      " 15  CANCELLED            float64       \n",
      " 16  CANCELLATION_CODE    object        \n",
      " 17  DIVERTED             float64       \n",
      " 18  CRS_ELAPSED_TIME     float64       \n",
      " 19  ACTUAL_ELAPSED_TIME  float64       \n",
      " 20  AIR_TIME             float64       \n",
      " 21  DISTANCE             float64       \n",
      " 22  CARRIER_DELAY        float64       \n",
      " 23  WEATHER_DELAY        float64       \n",
      " 24  NAS_DELAY            float64       \n",
      " 25  SECURITY_DELAY       float64       \n",
      " 26  LATE_AIRCRAFT_DELAY  float64       \n",
      " 27  OP_UNIQUE_CARRIER    object        \n",
      " 28  Unnamed: 20          float64       \n",
      "dtypes: datetime64[ns](1), float64(22), int64(1), object(5)\n",
      "memory usage: 3.7+ GB\n"
     ]
    }
   ],
   "source": [
    "def process_file(file_path):\n",
    "    # Read CSV file\n",
    "    df = pd.read_csv(file_path)\n",
    "    \n",
    "    # Drop completely empty column if it exists\n",
    "    if 'Unnamed: 27' in df.columns:\n",
    "        df.drop(columns=['Unnamed: 27'], inplace=True)\n",
    "    \n",
    "    # Convert FL_DATE to datetime format\n",
    "    df['FL_DATE'] = pd.to_datetime(df['FL_DATE'])\n",
    "    \n",
    "    # Fill missing numeric values with 0\n",
    "    df.fillna(0, inplace=True)\n",
    "    \n",
    "    return df\n",
    "\n",
    "# Process each file and store results\n",
    "dataframes = [process_file(file) for file in files]\n",
    "\n",
    "# Combine all years into a single DataFrame\n",
    "df_combined = pd.concat(dataframes, ignore_index=True)\n",
    "\n",
    "# Display the first few rows\n",
    "print(df_combined.head())\n",
    "\n",
    "# Check data info to confirm cleaning\n",
    "df_combined.info()\n"
   ]
  },
  {
   "cell_type": "code",
   "execution_count": 4,
   "metadata": {},
   "outputs": [
    {
     "name": "stdout",
     "output_type": "stream",
     "text": [
      "     FL_DATE  OP_CARRIER  OP_CARRIER_FL_NUM  ORIGIN  DEST  CRS_DEP_TIME  \\\n",
      "0 2018-01-01          13               2429     119    96        1517.0   \n",
      "1 2018-01-01          13               2427     192   316        1115.0   \n",
      "2 2018-01-01          13               2426     330    96        1335.0   \n",
      "3 2018-01-01          13               2425     302   253        1546.0   \n",
      "4 2018-01-01          13               2424     253    14         630.0   \n",
      "\n",
      "   DEP_TIME  DEP_DELAY  TAXI_OUT  WHEELS_OFF  ...  ACTUAL_ELAPSED_TIME  \\\n",
      "0    1512.0       -5.0      15.0      1527.0  ...                250.0   \n",
      "1    1107.0       -8.0      11.0      1118.0  ...                 83.0   \n",
      "2    1330.0       -5.0      15.0      1345.0  ...                126.0   \n",
      "3    1552.0        6.0      19.0      1611.0  ...                182.0   \n",
      "4     650.0       20.0      13.0       703.0  ...                106.0   \n",
      "\n",
      "   AIR_TIME  DISTANCE  CARRIER_DELAY  WEATHER_DELAY  NAS_DELAY  \\\n",
      "0     225.0    1605.0            0.0            0.0        0.0   \n",
      "1      65.0     414.0            0.0            0.0        0.0   \n",
      "2     106.0     846.0            0.0            0.0        0.0   \n",
      "3     157.0    1120.0            0.0            0.0        0.0   \n",
      "4      83.0     723.0            0.0            0.0        0.0   \n",
      "\n",
      "   SECURITY_DELAY  LATE_AIRCRAFT_DELAY  OP_UNIQUE_CARRIER  Unnamed: 20  \n",
      "0             0.0                  0.0                NaN          NaN  \n",
      "1             0.0                  0.0                NaN          NaN  \n",
      "2             0.0                  0.0                NaN          NaN  \n",
      "3             0.0                  0.0                NaN          NaN  \n",
      "4             0.0                  0.0                NaN          NaN  \n",
      "\n",
      "[5 rows x 29 columns]\n",
      "<class 'pandas.core.frame.DataFrame'>\n",
      "RangeIndex: 17183057 entries, 0 to 17183056\n",
      "Data columns (total 29 columns):\n",
      " #   Column               Dtype         \n",
      "---  ------               -----         \n",
      " 0   FL_DATE              datetime64[ns]\n",
      " 1   OP_CARRIER           int64         \n",
      " 2   OP_CARRIER_FL_NUM    int64         \n",
      " 3   ORIGIN               int64         \n",
      " 4   DEST                 int64         \n",
      " 5   CRS_DEP_TIME         float64       \n",
      " 6   DEP_TIME             float64       \n",
      " 7   DEP_DELAY            float64       \n",
      " 8   TAXI_OUT             float64       \n",
      " 9   WHEELS_OFF           float64       \n",
      " 10  WHEELS_ON            float64       \n",
      " 11  TAXI_IN              float64       \n",
      " 12  CRS_ARR_TIME         float64       \n",
      " 13  ARR_TIME             float64       \n",
      " 14  ARR_DELAY            float64       \n",
      " 15  CANCELLED            float64       \n",
      " 16  CANCELLATION_CODE    int64         \n",
      " 17  DIVERTED             float64       \n",
      " 18  CRS_ELAPSED_TIME     float64       \n",
      " 19  ACTUAL_ELAPSED_TIME  float64       \n",
      " 20  AIR_TIME             float64       \n",
      " 21  DISTANCE             float64       \n",
      " 22  CARRIER_DELAY        float64       \n",
      " 23  WEATHER_DELAY        float64       \n",
      " 24  NAS_DELAY            float64       \n",
      " 25  SECURITY_DELAY       float64       \n",
      " 26  LATE_AIRCRAFT_DELAY  float64       \n",
      " 27  OP_UNIQUE_CARRIER    object        \n",
      " 28  Unnamed: 20          float64       \n",
      "dtypes: datetime64[ns](1), float64(22), int64(5), object(1)\n",
      "memory usage: 3.7+ GB\n"
     ]
    }
   ],
   "source": [
    "\n",
    "\n",
    "# Convert categorical columns to numerical using Label Encoding\n",
    "categorical_cols = ['OP_CARRIER', 'ORIGIN', 'DEST', 'CANCELLATION_CODE']\n",
    "label_encoders = {}\n",
    "\n",
    "for col in categorical_cols:\n",
    "    le = LabelEncoder()\n",
    "    df_combined[col] = le.fit_transform(df_combined[col].astype(str))\n",
    "    label_encoders[col] = le\n",
    "\n",
    "# Display the first few rows\n",
    "print(df_combined.head())\n",
    "\n",
    "# Check data info to confirm cleaning\n",
    "df_combined.info()\n"
   ]
  },
  {
   "cell_type": "code",
   "execution_count": 5,
   "metadata": {},
   "outputs": [
    {
     "name": "stdout",
     "output_type": "stream",
     "text": [
      "     FL_DATE  OP_CARRIER  OP_CARRIER_FL_NUM  ORIGIN  DEST  CRS_DEP_TIME  \\\n",
      "0 2018-01-01          13               2429     119    96        1517.0   \n",
      "1 2018-01-01          13               2427     192   316        1115.0   \n",
      "2 2018-01-01          13               2426     330    96        1335.0   \n",
      "3 2018-01-01          13               2425     302   253        1546.0   \n",
      "4 2018-01-01          13               2424     253    14         630.0   \n",
      "\n",
      "   DEP_TIME  DEP_DELAY  TAXI_OUT  WHEELS_OFF  ...  AIR_TIME  DISTANCE  \\\n",
      "0    1512.0       -5.0      15.0      1527.0  ...     225.0    1605.0   \n",
      "1    1107.0       -8.0      11.0      1118.0  ...      65.0     414.0   \n",
      "2    1330.0       -5.0      15.0      1345.0  ...     106.0     846.0   \n",
      "3    1552.0        6.0      19.0      1611.0  ...     157.0    1120.0   \n",
      "4     650.0       20.0      13.0       703.0  ...      83.0     723.0   \n",
      "\n",
      "   CARRIER_DELAY  WEATHER_DELAY  NAS_DELAY  SECURITY_DELAY  \\\n",
      "0            0.0            0.0        0.0             0.0   \n",
      "1            0.0            0.0        0.0             0.0   \n",
      "2            0.0            0.0        0.0             0.0   \n",
      "3            0.0            0.0        0.0             0.0   \n",
      "4            0.0            0.0        0.0             0.0   \n",
      "\n",
      "   LATE_AIRCRAFT_DELAY  OP_UNIQUE_CARRIER  Unnamed: 20  IS_DELAY  \n",
      "0                  0.0                NaN          NaN         0  \n",
      "1                  0.0                NaN          NaN         0  \n",
      "2                  0.0                NaN          NaN         0  \n",
      "3                  0.0                NaN          NaN         0  \n",
      "4                  0.0                NaN          NaN         0  \n",
      "\n",
      "[5 rows x 30 columns]\n",
      "<class 'pandas.core.frame.DataFrame'>\n",
      "RangeIndex: 17183057 entries, 0 to 17183056\n",
      "Data columns (total 30 columns):\n",
      " #   Column               Dtype         \n",
      "---  ------               -----         \n",
      " 0   FL_DATE              datetime64[ns]\n",
      " 1   OP_CARRIER           int64         \n",
      " 2   OP_CARRIER_FL_NUM    int64         \n",
      " 3   ORIGIN               int64         \n",
      " 4   DEST                 int64         \n",
      " 5   CRS_DEP_TIME         float64       \n",
      " 6   DEP_TIME             float64       \n",
      " 7   DEP_DELAY            float64       \n",
      " 8   TAXI_OUT             float64       \n",
      " 9   WHEELS_OFF           float64       \n",
      " 10  WHEELS_ON            float64       \n",
      " 11  TAXI_IN              float64       \n",
      " 12  CRS_ARR_TIME         float64       \n",
      " 13  ARR_TIME             float64       \n",
      " 14  ARR_DELAY            float64       \n",
      " 15  CANCELLED            float64       \n",
      " 16  CANCELLATION_CODE    int64         \n",
      " 17  DIVERTED             float64       \n",
      " 18  CRS_ELAPSED_TIME     float64       \n",
      " 19  ACTUAL_ELAPSED_TIME  float64       \n",
      " 20  AIR_TIME             float64       \n",
      " 21  DISTANCE             float64       \n",
      " 22  CARRIER_DELAY        float64       \n",
      " 23  WEATHER_DELAY        float64       \n",
      " 24  NAS_DELAY            float64       \n",
      " 25  SECURITY_DELAY       float64       \n",
      " 26  LATE_AIRCRAFT_DELAY  float64       \n",
      " 27  OP_UNIQUE_CARRIER    object        \n",
      " 28  Unnamed: 20          float64       \n",
      " 29  IS_DELAY             int64         \n",
      "dtypes: datetime64[ns](1), float64(22), int64(6), object(1)\n",
      "memory usage: 3.8+ GB\n"
     ]
    }
   ],
   "source": [
    "\n",
    "# Create IS_DELAY column (1 if ARR_DELAY > 15, else 0)\n",
    "df_combined['IS_DELAY'] = (df_combined['ARR_DELAY'] > 15).astype(int)\n",
    "\n",
    "# Display the first few rows\n",
    "print(df_combined.head())\n",
    "\n",
    "# Check data info to confirm cleaning\n",
    "df_combined.info()"
   ]
  },
  {
   "cell_type": "code",
   "execution_count": 6,
   "metadata": {},
   "outputs": [
    {
     "name": "stdout",
     "output_type": "stream",
     "text": [
      "On-time flights (0): 11987426\n",
      "Delayed flights (1): 5195631\n"
     ]
    }
   ],
   "source": [
    "# Count the number of delayed (1) and non-delayed (0) flights\n",
    "delay_counts = df_combined['IS_DELAY'].value_counts()\n",
    "\n",
    "# Print the counts\n",
    "print(f\"On-time flights (0): {delay_counts.get(0, 0)}\")\n",
    "print(f\"Delayed flights (1): {delay_counts.get(1, 0)}\")\n"
   ]
  },
  {
   "cell_type": "code",
   "execution_count": null,
   "metadata": {},
   "outputs": [],
   "source": [
    "# features = ['OP_CARRIER', 'ORIGIN', 'DEST', 'CRS_DEP_TIME', 'DEP_DELAY', 'TAXI_OUT', 'AIR_TIME', 'DISTANCE']\n",
    "# target = 'IS_DELAY'\n"
   ]
  },
  {
   "cell_type": "code",
   "execution_count": null,
   "metadata": {},
   "outputs": [],
   "source": [
    "# X = df_combined[features]\n",
    "# y = df_combined[target]\n"
   ]
  },
  {
   "cell_type": "code",
   "execution_count": 7,
   "metadata": {},
   "outputs": [],
   "source": [
    "X = df_combined.drop(columns=[\"IS_DELAY\", \"ARR_DELAY\"])  # Drop target column and delay minutes\n",
    "y = df_combined[\"IS_DELAY\"]\n"
   ]
  },
  {
   "cell_type": "code",
   "execution_count": 8,
   "metadata": {},
   "outputs": [],
   "source": [
    "X_train, X_test, y_train, y_test = train_test_split(X, y, test_size=0.2, random_state=42)\n",
    "\n"
   ]
  },
  {
   "cell_type": "markdown",
   "metadata": {},
   "source": [
    "Decision Tree"
   ]
  },
  {
   "cell_type": "code",
   "execution_count": null,
   "metadata": {},
   "outputs": [],
   "source": [
    "dt_model = DecisionTreeClassifier(random_state=42)\n",
    "dt_model.fit(X_train, y_train)\n",
    "y_pred = dt_model.predict(X_test)"
   ]
  },
  {
   "cell_type": "code",
   "execution_count": null,
   "metadata": {},
   "outputs": [
    {
     "name": "stdout",
     "output_type": "stream",
     "text": [
      "Model Accuracy: 0.95\n"
     ]
    }
   ],
   "source": [
    "accuracy = accuracy_score(y_test, y_pred)\n",
    "print(f\"Model Accuracy: {accuracy:.2f}\")\n",
    "\n",
    "# Print classification report\n",
    "print(\"Classification Report:\\n\", classification_report(y_test, y_pred))\n",
    "\n",
    "# Print confusion matrix\n",
    "print(\"Confusion Matrix:\\n\", confusion_matrix(y_test, y_pred))"
   ]
  },
  {
   "cell_type": "code",
   "execution_count": null,
   "metadata": {},
   "outputs": [],
   "source": [
    "# Training accuracy\n",
    "train_accuracy = dt_model.score(X_train, y_train)\n",
    "print(f\"Training Accuracy: {train_accuracy:.2f}\")\n",
    "\n",
    "# Testing accuracy\n",
    "test_accuracy = dt_model.score(X_test, y_test)\n",
    "print(f\"Testing Accuracy: {test_accuracy:.2f}\")\n",
    "\n",
    "# Difference between train and test accuracy\n",
    "accuracy_diff = train_accuracy - test_accuracy\n",
    "print(f\"Accuracy Difference: {accuracy_diff:.2f}\")\n"
   ]
  },
  {
   "cell_type": "code",
   "execution_count": null,
   "metadata": {},
   "outputs": [],
   "source": [
    "scaler = StandardScaler()\n",
    "X_train_scaled = scaler.fit_transform(X_train)\n",
    "X_test_scaled = scaler.transform(X_test)"
   ]
  },
  {
   "cell_type": "markdown",
   "metadata": {},
   "source": [
    "Logistic Regression"
   ]
  },
  {
   "cell_type": "code",
   "execution_count": null,
   "metadata": {},
   "outputs": [],
   "source": [
    "log_reg = LogisticRegression()\n",
    "log_reg.fit(X_train_scaled, y_train)\n",
    "y_pred_log = log_reg.predict(X_test_scaled)\n"
   ]
  },
  {
   "cell_type": "code",
   "execution_count": null,
   "metadata": {},
   "outputs": [],
   "source": [
    "print(\"Logistic Regression Performance:\")\n",
    "print(f\"Accuracy: {accuracy_score(y_test, y_pred_log):.2f}\")\n",
    "print(classification_report(y_test, y_pred_log))"
   ]
  },
  {
   "cell_type": "code",
   "execution_count": null,
   "metadata": {},
   "outputs": [],
   "source": [
    "# Training accuracy\n",
    "train_accuracy_log = log_reg.score(X_train_scaled, y_train)\n",
    "print(f\"🔹 Logistic Regression - Training Accuracy: {train_accuracy_log:.2f}\")\n",
    "\n",
    "# Testing accuracy\n",
    "test_accuracy_log = log_reg.score(X_test_scaled, y_test)\n",
    "print(f\"🔹 Logistic Regression - Testing Accuracy: {test_accuracy_log:.2f}\")\n",
    "\n",
    "# Accuracy difference\n",
    "accuracy_diff_log = train_accuracy_log - test_accuracy_log\n",
    "print(f\"🔹 Logistic Regression - Accuracy Difference: {accuracy_diff_log:.2f}\\n\")\n"
   ]
  },
  {
   "cell_type": "markdown",
   "metadata": {},
   "source": [
    "SVM  "
   ]
  },
  {
   "cell_type": "code",
   "execution_count": null,
   "metadata": {},
   "outputs": [],
   "source": [
    "svm_model = SVC(kernel=\"rbf\")  # Using RBF kernel for better results\n",
    "svm_model.fit(X_train_scaled, y_train)\n",
    "y_pred_svm = svm_model.predict(X_test_scaled)\n"
   ]
  },
  {
   "cell_type": "code",
   "execution_count": null,
   "metadata": {},
   "outputs": [],
   "source": [
    "print(\"SVM Performance:\")\n",
    "print(f\"Accuracy: {accuracy_score(y_test, y_pred_svm):.2f}\")\n",
    "print(classification_report(y_test, y_pred_svm))"
   ]
  },
  {
   "cell_type": "code",
   "execution_count": null,
   "metadata": {},
   "outputs": [],
   "source": [
    "# Training accuracy\n",
    "train_accuracy_svm = svm_model.score(X_train_scaled, y_train)\n",
    "print(f\"🔹 SVM - Training Accuracy: {train_accuracy_svm:.2f}\")\n",
    "\n",
    "# Testing accuracy\n",
    "test_accuracy_svm = svm_model.score(X_test_scaled, y_test)\n",
    "print(f\"🔹 SVM - Testing Accuracy: {test_accuracy_svm:.2f}\")\n",
    "\n",
    "# Accuracy difference\n",
    "accuracy_diff_svm = train_accuracy_svm - test_accuracy_svm\n",
    "print(f\"🔹 SVM - Accuracy Difference: {accuracy_diff_svm:.2f}\\n\")\n"
   ]
  },
  {
   "cell_type": "markdown",
   "metadata": {},
   "source": [
    "XG Boost"
   ]
  },
  {
   "cell_type": "code",
   "execution_count": null,
   "metadata": {},
   "outputs": [],
   "source": [
    "xgb_model = xgb.XGBClassifier(use_label_encoder=False, eval_metric=\"logloss\")\n",
    "xgb_model.fit(X_train, y_train)\n",
    "y_pred_xgb = xgb_model.predict(X_test)"
   ]
  },
  {
   "cell_type": "code",
   "execution_count": null,
   "metadata": {},
   "outputs": [],
   "source": [
    "print(\"XGBoost Performance:\")\n",
    "print(f\"Accuracy: {accuracy_score(y_test, y_pred_xgb):.2f}\")\n",
    "print(classification_report(y_test, y_pred_xgb))"
   ]
  },
  {
   "cell_type": "code",
   "execution_count": null,
   "metadata": {},
   "outputs": [],
   "source": [
    "# Training accuracy\n",
    "train_accuracy_xgb = xgb_model.score(X_train, y_train)\n",
    "print(f\"🔹 XGBoost - Training Accuracy: {train_accuracy_xgb:.2f}\")\n",
    "\n",
    "# Testing accuracy\n",
    "test_accuracy_xgb = xgb_model.score(X_test, y_test)\n",
    "print(f\"🔹 XGBoost - Testing Accuracy: {test_accuracy_xgb:.2f}\")\n",
    "\n",
    "# Accuracy difference\n",
    "accuracy_diff_xgb = train_accuracy_xgb - test_accuracy_xgb\n",
    "print(f\"🔹 XGBoost - Accuracy Difference: {accuracy_diff_xgb:.2f}\\n\")\n"
   ]
  }
 ],
 "metadata": {
  "kernelspec": {
   "display_name": "virtual",
   "language": "python",
   "name": "python3"
  },
  "language_info": {
   "codemirror_mode": {
    "name": "ipython",
    "version": 3
   },
   "file_extension": ".py",
   "mimetype": "text/x-python",
   "name": "python",
   "nbconvert_exporter": "python",
   "pygments_lexer": "ipython3",
   "version": "3.12.4"
  }
 },
 "nbformat": 4,
 "nbformat_minor": 2
}

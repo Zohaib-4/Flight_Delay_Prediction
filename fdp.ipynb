{
 "cells": [
  {
   "cell_type": "code",
   "execution_count": null,
   "metadata": {},
   "outputs": [
    {
     "name": "stdout",
     "output_type": "stream",
     "text": [
      "      FL_DATE OP_CARRIER  OP_CARRIER_FL_NUM ORIGIN DEST  CRS_DEP_TIME  \\\n",
      "0  2020-01-01         WN               5888    ONT  SFO        1851.0   \n",
      "1  2020-01-01         WN               6276    ONT  SFO        1146.0   \n",
      "2  2020-01-01         WN               4598    ONT  SJC        2016.0   \n",
      "3  2020-01-01         WN               4761    ONT  SJC        1350.0   \n",
      "4  2020-01-01         WN               5162    ONT  SJC         916.0   \n",
      "\n",
      "   DEP_TIME  DEP_DELAY  TAXI_OUT  WHEELS_OFF  ...  CRS_ELAPSED_TIME  \\\n",
      "0      41.0       44.0    1935.0      2049.0  ...               0.0   \n",
      "1      -4.0       13.0    1159.0      1310.0  ...               NaN   \n",
      "2      -4.0        8.0    2024.0      2121.0  ...               NaN   \n",
      "3      10.0       10.0    1400.0      1503.0  ...               NaN   \n",
      "4       1.0        6.0     922.0      1019.0  ...               NaN   \n",
      "\n",
      "   ACTUAL_ELAPSED_TIME  AIR_TIME  DISTANCE  CARRIER_DELAY  WEATHER_DELAY  \\\n",
      "0                 33.0       NaN       NaN            NaN            NaN   \n",
      "1                  NaN       NaN       NaN            NaN            NaN   \n",
      "2                  NaN       NaN       NaN            NaN            NaN   \n",
      "3                  NaN       NaN       NaN            NaN            NaN   \n",
      "4                  NaN       NaN       NaN            NaN            NaN   \n",
      "\n",
      "   NAS_DELAY  SECURITY_DELAY  LATE_AIRCRAFT_DELAY  Unnamed: 27  \n",
      "0        NaN             NaN                  NaN          NaN  \n",
      "1        NaN             NaN                  NaN          NaN  \n",
      "2        NaN             NaN                  NaN          NaN  \n",
      "3        NaN             NaN                  NaN          NaN  \n",
      "4        NaN             NaN                  NaN          NaN  \n",
      "\n",
      "[5 rows x 28 columns]\n",
      "<class 'pandas.core.frame.DataFrame'>\n",
      "RangeIndex: 2547574 entries, 0 to 2547573\n",
      "Data columns (total 28 columns):\n",
      " #   Column               Dtype  \n",
      "---  ------               -----  \n",
      " 0   FL_DATE              object \n",
      " 1   OP_CARRIER           object \n",
      " 2   OP_CARRIER_FL_NUM    int64  \n",
      " 3   ORIGIN               object \n",
      " 4   DEST                 object \n",
      " 5   CRS_DEP_TIME         float64\n",
      " 6   DEP_TIME             float64\n",
      " 7   DEP_DELAY            float64\n",
      " 8   TAXI_OUT             float64\n",
      " 9   WHEELS_OFF           float64\n",
      " 10  WHEELS_ON            float64\n",
      " 11  TAXI_IN              float64\n",
      " 12  CRS_ARR_TIME         float64\n",
      " 13  ARR_TIME             float64\n",
      " 14  ARR_DELAY            float64\n",
      " 15  CANCELLED            float64\n",
      " 16  CANCELLATION_CODE    float64\n",
      " 17  DIVERTED             float64\n",
      " 18  CRS_ELAPSED_TIME     float64\n",
      " 19  ACTUAL_ELAPSED_TIME  float64\n",
      " 20  AIR_TIME             float64\n",
      " 21  DISTANCE             float64\n",
      " 22  CARRIER_DELAY        float64\n",
      " 23  WEATHER_DELAY        float64\n",
      " 24  NAS_DELAY            float64\n",
      " 25  SECURITY_DELAY       float64\n",
      " 26  LATE_AIRCRAFT_DELAY  float64\n",
      " 27  Unnamed: 27          float64\n",
      "dtypes: float64(23), int64(1), object(4)\n",
      "memory usage: 544.2+ MB\n",
      "None\n"
     ]
    }
   ],
   "source": [
    "import pandas as pd\n",
    "import numpy as np\n",
    "# import matplotlib.pyplot as plt\n",
    "\n",
    "\n",
    "df = pd.read_csv('2020.csv')\n",
    "print(df.head())\n",
    "print(df.info())\n"
   ]
  }
 ],
 "metadata": {
  "kernelspec": {
   "display_name": "virtual",
   "language": "python",
   "name": "python3"
  },
  "language_info": {
   "codemirror_mode": {
    "name": "ipython",
    "version": 3
   },
   "file_extension": ".py",
   "mimetype": "text/x-python",
   "name": "python",
   "nbconvert_exporter": "python",
   "pygments_lexer": "ipython3",
   "version": "3.12.4"
  }
 },
 "nbformat": 4,
 "nbformat_minor": 2
}

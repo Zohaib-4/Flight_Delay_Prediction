{
 "cells": [
  {
   "cell_type": "code",
   "execution_count": 24,
   "metadata": {},
   "outputs": [],
   "source": [
    "import pandas as pd\n",
    "import numpy as np\n",
    "import matplotlib.pyplot as plt\n",
    "from sklearn.preprocessing import LabelEncoder\n",
    "from sklearn.model_selection import train_test_split\n",
    "from sklearn.tree import DecisionTreeClassifier\n",
    "from sklearn.metrics import accuracy_score, classification_report, confusion_matrix\n",
    "from sklearn.model_selection import cross_val_score"
   ]
  },
  {
   "cell_type": "code",
   "execution_count": 6,
   "metadata": {},
   "outputs": [],
   "source": [
    "\n",
    "files = [\"2018.csv\", \"2019.csv\", \"2020.csv\"]\n",
    "\n"
   ]
  },
  {
   "cell_type": "code",
   "execution_count": null,
   "metadata": {},
   "outputs": [],
   "source": [
    "def process_file(file_path):\n",
    "    # Read CSV file\n",
    "    df = pd.read_csv(file_path)\n",
    "    \n",
    "    # Drop completely empty column if it exists\n",
    "    if 'Unnamed: 27' in df.columns:\n",
    "        df.drop(columns=['Unnamed: 27'], inplace=True)\n",
    "    \n",
    "    # Convert FL_DATE to datetime format\n",
    "    df['FL_DATE'] = pd.to_datetime(df['FL_DATE'])\n",
    "    \n",
    "    # Fill missing numeric values with 0\n",
    "    df.fillna(0, inplace=True)\n",
    "    \n",
    "    return df\n",
    "\n",
    "# Process each file and store results\n",
    "dataframes = [process_file(file) for file in files]\n",
    "\n",
    "# Combine all years into a single DataFrame\n",
    "df_combined = pd.concat(dataframes, ignore_index=True)\n",
    "\n",
    "# Display the first few rows\n",
    "print(df_combined.head())\n",
    "\n",
    "# Check data info to confirm cleaning\n",
    "df_combined.info()\n"
   ]
  },
  {
   "cell_type": "code",
   "execution_count": null,
   "metadata": {},
   "outputs": [],
   "source": [
    "\n",
    "\n",
    "# Convert categorical columns to numerical using Label Encoding\n",
    "categorical_cols = ['OP_CARRIER', 'ORIGIN', 'DEST', 'CANCELLATION_CODE']\n",
    "label_encoders = {}\n",
    "\n",
    "for col in categorical_cols:\n",
    "    le = LabelEncoder()\n",
    "    df_combined[col] = le.fit_transform(df_combined[col].astype(str))\n",
    "    label_encoders[col] = le\n",
    "\n",
    "# Display the first few rows\n",
    "print(df_combined.head())\n",
    "\n",
    "# Check data info to confirm cleaning\n",
    "df_combined.info()\n"
   ]
  },
  {
   "cell_type": "code",
   "execution_count": null,
   "metadata": {},
   "outputs": [],
   "source": [
    "\n",
    "# Create IS_DELAY column (1 if ARR_DELAY > 15, else 0)\n",
    "df_combined['IS_DELAY'] = (df_combined['ARR_DELAY'] > 15).astype(int)\n",
    "\n",
    "# Display the first few rows\n",
    "print(df_combined.head())\n",
    "\n",
    "# Check data info to confirm cleaning\n",
    "df_combined.info()"
   ]
  },
  {
   "cell_type": "code",
   "execution_count": 12,
   "metadata": {},
   "outputs": [
    {
     "name": "stdout",
     "output_type": "stream",
     "text": [
      "On-time flights (0): 11987426\n",
      "Delayed flights (1): 5195631\n"
     ]
    }
   ],
   "source": [
    "# Count the number of delayed (1) and non-delayed (0) flights\n",
    "delay_counts = df_combined['IS_DELAY'].value_counts()\n",
    "\n",
    "# Print the counts\n",
    "print(f\"On-time flights (0): {delay_counts.get(0, 0)}\")\n",
    "print(f\"Delayed flights (1): {delay_counts.get(1, 0)}\")\n"
   ]
  },
  {
   "cell_type": "code",
   "execution_count": null,
   "metadata": {},
   "outputs": [],
   "source": [
    "# features = ['OP_CARRIER', 'ORIGIN', 'DEST', 'CRS_DEP_TIME', 'DEP_DELAY', 'TAXI_OUT', 'AIR_TIME', 'DISTANCE']\n",
    "# target = 'IS_DELAY'\n"
   ]
  },
  {
   "cell_type": "code",
   "execution_count": null,
   "metadata": {},
   "outputs": [],
   "source": [
    "# X = df_combined[features]\n",
    "# y = df_combined[target]\n"
   ]
  },
  {
   "cell_type": "code",
   "execution_count": null,
   "metadata": {},
   "outputs": [],
   "source": [
    "X = df_combined.drop(columns=[\"IS_DELAY\", \"ARR_DELAY\"])  # Drop target column and delay minutes\n",
    "y = df_combined[\"IS_DELAY\"]\n"
   ]
  },
  {
   "cell_type": "code",
   "execution_count": 17,
   "metadata": {},
   "outputs": [],
   "source": [
    "X_train, X_test, y_train, y_test = train_test_split(X, y, test_size=0.2, random_state=42)\n",
    "\n"
   ]
  },
  {
   "cell_type": "markdown",
   "metadata": {},
   "source": [
    "Decision Tree"
   ]
  },
  {
   "cell_type": "code",
   "execution_count": null,
   "metadata": {},
   "outputs": [],
   "source": [
    "dt_model = DecisionTreeClassifier(random_state=42)\n",
    "dt_model.fit(X_train, y_train)\n",
    "y_pred = dt_model.predict(X_test)"
   ]
  },
  {
   "cell_type": "code",
   "execution_count": null,
   "metadata": {},
   "outputs": [
    {
     "name": "stdout",
     "output_type": "stream",
     "text": [
      "Model Accuracy: 0.95\n"
     ]
    }
   ],
   "source": [
    "accuracy = accuracy_score(y_test, y_pred)\n",
    "print(f\"Model Accuracy: {accuracy:.2f}\")\n",
    "\n",
    "# Print classification report\n",
    "print(\"Classification Report:\\n\", classification_report(y_test, y_pred))\n",
    "\n",
    "# Print confusion matrix\n",
    "print(\"Confusion Matrix:\\n\", confusion_matrix(y_test, y_pred))"
   ]
  },
  {
   "cell_type": "code",
   "execution_count": 23,
   "metadata": {},
   "outputs": [
    {
     "name": "stdout",
     "output_type": "stream",
     "text": [
      "Training Accuracy: 1.00\n",
      "Testing Accuracy: 0.95\n",
      "Accuracy Difference: 0.05\n"
     ]
    }
   ],
   "source": [
    "# Training accuracy\n",
    "train_accuracy = dt_model.score(X_train, y_train)\n",
    "print(f\"Training Accuracy: {train_accuracy:.2f}\")\n",
    "\n",
    "# Testing accuracy\n",
    "test_accuracy = dt_model.score(X_test, y_test)\n",
    "print(f\"Testing Accuracy: {test_accuracy:.2f}\")\n",
    "\n",
    "# Difference between train and test accuracy\n",
    "accuracy_diff = train_accuracy - test_accuracy\n",
    "print(f\"Accuracy Difference: {accuracy_diff:.2f}\")\n"
   ]
  },
  {
   "cell_type": "code",
   "execution_count": null,
   "metadata": {},
   "outputs": [],
   "source": [
    "cv_scores = cross_val_score(dt_model, X, y, cv=5)  # 5-fold cross-validation\n",
    "print(f\"Cross-Validation Accuracy: {cv_scores.mean():.2f} ± {cv_scores.std():.2f}\")\n"
   ]
  }
 ],
 "metadata": {
  "kernelspec": {
   "display_name": "virtual",
   "language": "python",
   "name": "python3"
  },
  "language_info": {
   "codemirror_mode": {
    "name": "ipython",
    "version": 3
   },
   "file_extension": ".py",
   "mimetype": "text/x-python",
   "name": "python",
   "nbconvert_exporter": "python",
   "pygments_lexer": "ipython3",
   "version": "3.12.4"
  }
 },
 "nbformat": 4,
 "nbformat_minor": 2
}

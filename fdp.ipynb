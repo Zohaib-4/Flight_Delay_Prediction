{
 "cells": [
  {
   "cell_type": "code",
   "execution_count": 8,
   "metadata": {},
   "outputs": [],
   "source": [
    "import pandas as pd\n",
    "import numpy as np\n",
    "import matplotlib.pyplot as plt\n",
    "import sklearn as sk\n",
    "from sklearn.preprocessing import LabelEncoder"
   ]
  },
  {
   "cell_type": "code",
   "execution_count": 6,
   "metadata": {},
   "outputs": [],
   "source": [
    "\n",
    "files = [\"2018.csv\", \"2019.csv\", \"2020.csv\"]\n",
    "\n"
   ]
  },
  {
   "cell_type": "code",
   "execution_count": null,
   "metadata": {},
   "outputs": [],
   "source": [
    "def process_file(file_path):\n",
    "    # Read CSV file\n",
    "    df = pd.read_csv(file_path)\n",
    "    \n",
    "    # Drop completely empty column if it exists\n",
    "    if 'Unnamed: 27' in df.columns:\n",
    "        df.drop(columns=['Unnamed: 27'], inplace=True)\n",
    "    \n",
    "    # Convert FL_DATE to datetime format\n",
    "    df['FL_DATE'] = pd.to_datetime(df['FL_DATE'])\n",
    "    \n",
    "    # Fill missing numeric values with 0\n",
    "    df.fillna(0, inplace=True)\n",
    "    \n",
    "    return df\n",
    "\n",
    "# Process each file and store results\n",
    "dataframes = [process_file(file) for file in files]\n",
    "\n",
    "# Combine all years into a single DataFrame\n",
    "df_combined = pd.concat(dataframes, ignore_index=True)\n",
    "\n",
    "# Display the first few rows\n",
    "print(df_combined.head())\n",
    "\n",
    "# Check data info to confirm cleaning\n",
    "df_combined.info()\n"
   ]
  },
  {
   "cell_type": "code",
   "execution_count": null,
   "metadata": {},
   "outputs": [],
   "source": [
    "\n",
    "\n",
    "# Convert categorical columns to numerical using Label Encoding\n",
    "categorical_cols = ['OP_CARRIER', 'ORIGIN', 'DEST', 'CANCELLATION_CODE']\n",
    "label_encoders = {}\n",
    "\n",
    "for col in categorical_cols:\n",
    "    le = LabelEncoder()\n",
    "    df_combined[col] = le.fit_transform(df_combined[col].astype(str))\n",
    "    label_encoders[col] = le\n",
    "\n",
    "# Display the first few rows\n",
    "print(df_combined.head())\n",
    "\n",
    "# Check data info to confirm cleaning\n",
    "df_combined.info()\n"
   ]
  },
  {
   "cell_type": "code",
   "execution_count": 10,
   "metadata": {},
   "outputs": [
    {
     "name": "stdout",
     "output_type": "stream",
     "text": [
      "     FL_DATE  OP_CARRIER  OP_CARRIER_FL_NUM  ORIGIN  DEST  CRS_DEP_TIME  \\\n",
      "0 2018-01-01          13               2429     119    96        1517.0   \n",
      "1 2018-01-01          13               2427     192   316        1115.0   \n",
      "2 2018-01-01          13               2426     330    96        1335.0   \n",
      "3 2018-01-01          13               2425     302   253        1546.0   \n",
      "4 2018-01-01          13               2424     253    14         630.0   \n",
      "\n",
      "   DEP_TIME  DEP_DELAY  TAXI_OUT  WHEELS_OFF  ...  AIR_TIME  DISTANCE  \\\n",
      "0    1512.0       -5.0      15.0      1527.0  ...     225.0    1605.0   \n",
      "1    1107.0       -8.0      11.0      1118.0  ...      65.0     414.0   \n",
      "2    1330.0       -5.0      15.0      1345.0  ...     106.0     846.0   \n",
      "3    1552.0        6.0      19.0      1611.0  ...     157.0    1120.0   \n",
      "4     650.0       20.0      13.0       703.0  ...      83.0     723.0   \n",
      "\n",
      "   CARRIER_DELAY  WEATHER_DELAY  NAS_DELAY  SECURITY_DELAY  \\\n",
      "0            0.0            0.0        0.0             0.0   \n",
      "1            0.0            0.0        0.0             0.0   \n",
      "2            0.0            0.0        0.0             0.0   \n",
      "3            0.0            0.0        0.0             0.0   \n",
      "4            0.0            0.0        0.0             0.0   \n",
      "\n",
      "   LATE_AIRCRAFT_DELAY  OP_UNIQUE_CARRIER  Unnamed: 20  IS_DELAY  \n",
      "0                  0.0                NaN          NaN         0  \n",
      "1                  0.0                NaN          NaN         0  \n",
      "2                  0.0                NaN          NaN         0  \n",
      "3                  0.0                NaN          NaN         0  \n",
      "4                  0.0                NaN          NaN         0  \n",
      "\n",
      "[5 rows x 30 columns]\n",
      "<class 'pandas.core.frame.DataFrame'>\n",
      "RangeIndex: 17183057 entries, 0 to 17183056\n",
      "Data columns (total 30 columns):\n",
      " #   Column               Dtype         \n",
      "---  ------               -----         \n",
      " 0   FL_DATE              datetime64[ns]\n",
      " 1   OP_CARRIER           int64         \n",
      " 2   OP_CARRIER_FL_NUM    int64         \n",
      " 3   ORIGIN               int64         \n",
      " 4   DEST                 int64         \n",
      " 5   CRS_DEP_TIME         float64       \n",
      " 6   DEP_TIME             float64       \n",
      " 7   DEP_DELAY            float64       \n",
      " 8   TAXI_OUT             float64       \n",
      " 9   WHEELS_OFF           float64       \n",
      " 10  WHEELS_ON            float64       \n",
      " 11  TAXI_IN              float64       \n",
      " 12  CRS_ARR_TIME         float64       \n",
      " 13  ARR_TIME             float64       \n",
      " 14  ARR_DELAY            float64       \n",
      " 15  CANCELLED            float64       \n",
      " 16  CANCELLATION_CODE    int64         \n",
      " 17  DIVERTED             float64       \n",
      " 18  CRS_ELAPSED_TIME     float64       \n",
      " 19  ACTUAL_ELAPSED_TIME  float64       \n",
      " 20  AIR_TIME             float64       \n",
      " 21  DISTANCE             float64       \n",
      " 22  CARRIER_DELAY        float64       \n",
      " 23  WEATHER_DELAY        float64       \n",
      " 24  NAS_DELAY            float64       \n",
      " 25  SECURITY_DELAY       float64       \n",
      " 26  LATE_AIRCRAFT_DELAY  float64       \n",
      " 27  OP_UNIQUE_CARRIER    object        \n",
      " 28  Unnamed: 20          float64       \n",
      " 29  IS_DELAY             int64         \n",
      "dtypes: datetime64[ns](1), float64(22), int64(6), object(1)\n",
      "memory usage: 3.8+ GB\n"
     ]
    }
   ],
   "source": [
    "df_combined['ARR_DELAY'] = pd.to_numeric(df_combined['ARR_DELAY'], errors='coerce').fillna(0)\n",
    "\n",
    "# Create IS_DELAY column (1 if ARR_DELAY > 15, else 0)\n",
    "df_combined['IS_DELAY'] = (df_combined['ARR_DELAY'] > 15).astype(int)\n",
    "\n",
    "# Display the first few rows\n",
    "print(df_combined.head())\n",
    "\n",
    "# Check data info to confirm cleaning\n",
    "df_combined.info()"
   ]
  }
 ],
 "metadata": {
  "kernelspec": {
   "display_name": "virtual",
   "language": "python",
   "name": "python3"
  },
  "language_info": {
   "codemirror_mode": {
    "name": "ipython",
    "version": 3
   },
   "file_extension": ".py",
   "mimetype": "text/x-python",
   "name": "python",
   "nbconvert_exporter": "python",
   "pygments_lexer": "ipython3",
   "version": "3.12.4"
  }
 },
 "nbformat": 4,
 "nbformat_minor": 2
}

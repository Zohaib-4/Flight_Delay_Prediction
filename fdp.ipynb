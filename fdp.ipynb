{
 "cells": [
  {
   "cell_type": "code",
   "execution_count": 8,
   "metadata": {},
   "outputs": [],
   "source": [
    "import pandas as pd\n",
    "import numpy as np\n",
    "import matplotlib.pyplot as plt\n",
    "import sklearn as sk\n",
    "from sklearn.preprocessing import LabelEncoder"
   ]
  },
  {
   "cell_type": "code",
   "execution_count": 6,
   "metadata": {},
   "outputs": [],
   "source": [
    "\n",
    "files = [\"2018.csv\", \"2019.csv\", \"2020.csv\"]\n",
    "\n"
   ]
  },
  {
   "cell_type": "code",
   "execution_count": null,
   "metadata": {},
   "outputs": [],
   "source": [
    "def process_file(file_path):\n",
    "    # Read CSV file\n",
    "    df = pd.read_csv(file_path)\n",
    "    \n",
    "    # Drop completely empty column if it exists\n",
    "    if 'Unnamed: 27' in df.columns:\n",
    "        df.drop(columns=['Unnamed: 27'], inplace=True)\n",
    "    \n",
    "    # Convert FL_DATE to datetime format\n",
    "    df['FL_DATE'] = pd.to_datetime(df['FL_DATE'])\n",
    "    \n",
    "    # Fill missing numeric values with 0\n",
    "    df.fillna(0, inplace=True)\n",
    "    \n",
    "    return df\n",
    "\n",
    "# Process each file and store results\n",
    "dataframes = [process_file(file) for file in files]\n",
    "\n",
    "# Combine all years into a single DataFrame\n",
    "df_combined = pd.concat(dataframes, ignore_index=True)\n",
    "\n",
    "# Display the first few rows\n",
    "print(df_combined.head())\n",
    "\n",
    "# Check data info to confirm cleaning\n",
    "df_combined.info()\n"
   ]
  },
  {
   "cell_type": "code",
   "execution_count": null,
   "metadata": {},
   "outputs": [],
   "source": [
    "\n",
    "\n",
    "# Convert categorical columns to numerical using Label Encoding\n",
    "categorical_cols = ['OP_CARRIER', 'ORIGIN', 'DEST', 'CANCELLATION_CODE']\n",
    "label_encoders = {}\n",
    "\n",
    "for col in categorical_cols:\n",
    "    le = LabelEncoder()\n",
    "    df_combined[col] = le.fit_transform(df_combined[col].astype(str))\n",
    "    label_encoders[col] = le\n",
    "\n",
    "# Display the first few rows\n",
    "print(df_combined.head())\n",
    "\n",
    "# Check data info to confirm cleaning\n",
    "df_combined.info()\n"
   ]
  },
  {
   "cell_type": "code",
   "execution_count": null,
   "metadata": {},
   "outputs": [],
   "source": [
    "\n",
    "# Create IS_DELAY column (1 if ARR_DELAY > 15, else 0)\n",
    "df_combined['IS_DELAY'] = (df_combined['ARR_DELAY'] > 15).astype(int)\n",
    "\n",
    "# Display the first few rows\n",
    "print(df_combined.head())\n",
    "\n",
    "# Check data info to confirm cleaning\n",
    "df_combined.info()"
   ]
  },
  {
   "cell_type": "code",
   "execution_count": 12,
   "metadata": {},
   "outputs": [
    {
     "name": "stdout",
     "output_type": "stream",
     "text": [
      "On-time flights (0): 11987426\n",
      "Delayed flights (1): 5195631\n"
     ]
    }
   ],
   "source": [
    "# Count the number of delayed (1) and non-delayed (0) flights\n",
    "delay_counts = df_combined['IS_DELAY'].value_counts()\n",
    "\n",
    "# Print the counts\n",
    "print(f\"On-time flights (0): {delay_counts.get(0, 0)}\")\n",
    "print(f\"Delayed flights (1): {delay_counts.get(1, 0)}\")\n"
   ]
  }
 ],
 "metadata": {
  "kernelspec": {
   "display_name": "virtual",
   "language": "python",
   "name": "python3"
  },
  "language_info": {
   "codemirror_mode": {
    "name": "ipython",
    "version": 3
   },
   "file_extension": ".py",
   "mimetype": "text/x-python",
   "name": "python",
   "nbconvert_exporter": "python",
   "pygments_lexer": "ipython3",
   "version": "3.12.4"
  }
 },
 "nbformat": 4,
 "nbformat_minor": 2
}

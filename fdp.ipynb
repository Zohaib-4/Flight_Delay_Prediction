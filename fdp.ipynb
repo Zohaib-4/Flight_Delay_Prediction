{
 "cells": [
  {
   "cell_type": "code",
   "execution_count": 2,
   "metadata": {},
   "outputs": [],
   "source": [
    "import pandas as pd\n",
    "import numpy as np\n",
    "import matplotlib.pyplot as plt\n",
    "import sklearn as sk"
   ]
  },
  {
   "cell_type": "code",
   "execution_count": 6,
   "metadata": {},
   "outputs": [],
   "source": [
    "\n",
    "files = [\"2018.csv\", \"2019.csv\", \"2020.csv\"]\n",
    "\n"
   ]
  },
  {
   "cell_type": "code",
   "execution_count": null,
   "metadata": {},
   "outputs": [],
   "source": [
    "def process_file(file_path):\n",
    "    # Read CSV file\n",
    "    df = pd.read_csv(file_path)\n",
    "    \n",
    "    # Drop completely empty column if it exists\n",
    "    if 'Unnamed: 27' in df.columns:\n",
    "        df.drop(columns=['Unnamed: 27'], inplace=True)\n",
    "    \n",
    "    # Convert FL_DATE to datetime format\n",
    "    df['FL_DATE'] = pd.to_datetime(df['FL_DATE'])\n",
    "    \n",
    "    # Fill missing numeric values with 0\n",
    "    df.fillna(0, inplace=True)\n",
    "    \n",
    "    return df\n",
    "\n",
    "# Process each file and store results\n",
    "dataframes = [process_file(file) for file in files]\n",
    "\n",
    "# Combine all years into a single DataFrame\n",
    "df_combined = pd.concat(dataframes, ignore_index=True)\n",
    "\n",
    "# Display the first few rows\n",
    "print(df_combined.head())\n",
    "\n",
    "# Check data info to confirm cleaning\n",
    "df_combined.info()\n"
   ]
  }
 ],
 "metadata": {
  "kernelspec": {
   "display_name": "virtual",
   "language": "python",
   "name": "python3"
  },
  "language_info": {
   "codemirror_mode": {
    "name": "ipython",
    "version": 3
   },
   "file_extension": ".py",
   "mimetype": "text/x-python",
   "name": "python",
   "nbconvert_exporter": "python",
   "pygments_lexer": "ipython3",
   "version": "3.12.4"
  }
 },
 "nbformat": 4,
 "nbformat_minor": 2
}
